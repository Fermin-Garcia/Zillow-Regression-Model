{
 "cells": [
  {
   "cell_type": "markdown",
   "id": "f276a76b-507e-4af5-9b50-028c05f27dc1",
   "metadata": {},
   "source": [
    "# Imports"
   ]
  },
  {
   "cell_type": "code",
   "execution_count": 1,
   "id": "ae7042b1-2047-4955-96b3-0fca0612a7a7",
   "metadata": {},
   "outputs": [],
   "source": [
    "import os\n",
    "import pandas as pd\n",
    "import env"
   ]
  },
  {
   "cell_type": "markdown",
   "id": "e2aa4598-d0dd-4c36-a056-bb41d1e2562b",
   "metadata": {},
   "source": [
    "## Here we are creating a function that will call in the data from our sql database."
   ]
  },
  {
   "cell_type": "code",
   "execution_count": 4,
   "id": "5d480283-596d-4916-a627-69866439ecbb",
   "metadata": {},
   "outputs": [],
   "source": [
    "\n",
    "def acquire_zillow_data():\n",
    "    \"\"\"\n",
    "    Acquires Zillow data by querying the database and saving the result in a CSV file.\n",
    "    If the CSV file already exists, it returns the data from the file instead of querying the database again.\n",
    "    \n",
    "    Returns:\n",
    "        DataFrame: Zillow data\n",
    "        \n",
    "    \"\"\"\n",
    "    query = \"\\\n",
    "    select bedroomcnt, bathroomcnt, calculatedfinishedsquarefeet, taxvaluedollarcnt, yearbuilt, taxamount, fips \\\n",
    "    from properties_2017 \\\n",
    "    left join propertylandusetype using(propertylandusetypeid) \\\n",
    "    where propertylandusedesc = 'Single Family Residential'\"\n",
    "\n",
    "    if os.path.exists('zillow.csv'):\n",
    "        # If the CSV file already exists, read the data from the file\n",
    "        return pd.read_csv('zillow.csv')\n",
    "    else:\n",
    "        # Query the database, save the result in a CSV file, and return the data\n",
    "        df = pd.read_sql(query, get_connection())\n",
    "        df.to_csv('zillow.csv')\n",
    "        return pd.read_csv('zillow.csv', index_col=0)\n",
    "\n",
    "\n",
    "def get_connection(user=env.user, password=env.password, host=env.host, database=env.database):\n",
    "    \"\"\"\n",
    "    Creates a connection string for MySQL using the provided credentials and database information.\n",
    "\n",
    "    Args:\n",
    "        user (str): MySQL username\n",
    "        password (str): MySQL password\n",
    "        host (str): MySQL host\n",
    "        database (str): MySQL database name\n",
    "\n",
    "    Returns:\n",
    "        str: MySQL connection string\n",
    "\n",
    "    \"\"\"\n",
    "    return f'mysql+pymysql://{user}:{password}@{host}/{database}'\n"
   ]
  },
  {
   "cell_type": "code",
   "execution_count": 9,
   "id": "7e18834f-59f4-477d-9d82-97152736acd5",
   "metadata": {},
   "outputs": [],
   "source": [
    "#t estinmg the function \n",
    "df = acquire_zillow_data()"
   ]
  },
  {
   "cell_type": "code",
   "execution_count": 10,
   "id": "be8c2b8d-9ab7-400a-a511-5326d846cecc",
   "metadata": {},
   "outputs": [
    {
     "data": {
      "text/html": [
       "<div>\n",
       "<style scoped>\n",
       "    .dataframe tbody tr th:only-of-type {\n",
       "        vertical-align: middle;\n",
       "    }\n",
       "\n",
       "    .dataframe tbody tr th {\n",
       "        vertical-align: top;\n",
       "    }\n",
       "\n",
       "    .dataframe thead th {\n",
       "        text-align: right;\n",
       "    }\n",
       "</style>\n",
       "<table border=\"1\" class=\"dataframe\">\n",
       "  <thead>\n",
       "    <tr style=\"text-align: right;\">\n",
       "      <th></th>\n",
       "      <th>bedroomcnt</th>\n",
       "      <th>bathroomcnt</th>\n",
       "      <th>calculatedfinishedsquarefeet</th>\n",
       "      <th>taxvaluedollarcnt</th>\n",
       "      <th>yearbuilt</th>\n",
       "      <th>taxamount</th>\n",
       "      <th>fips</th>\n",
       "    </tr>\n",
       "  </thead>\n",
       "  <tbody>\n",
       "    <tr>\n",
       "      <th>0</th>\n",
       "      <td>0.0</td>\n",
       "      <td>0.0</td>\n",
       "      <td>NaN</td>\n",
       "      <td>27516.0</td>\n",
       "      <td>NaN</td>\n",
       "      <td>NaN</td>\n",
       "      <td>6037.0</td>\n",
       "    </tr>\n",
       "    <tr>\n",
       "      <th>1</th>\n",
       "      <td>0.0</td>\n",
       "      <td>0.0</td>\n",
       "      <td>NaN</td>\n",
       "      <td>10.0</td>\n",
       "      <td>NaN</td>\n",
       "      <td>NaN</td>\n",
       "      <td>6037.0</td>\n",
       "    </tr>\n",
       "    <tr>\n",
       "      <th>2</th>\n",
       "      <td>0.0</td>\n",
       "      <td>0.0</td>\n",
       "      <td>NaN</td>\n",
       "      <td>10.0</td>\n",
       "      <td>NaN</td>\n",
       "      <td>NaN</td>\n",
       "      <td>6037.0</td>\n",
       "    </tr>\n",
       "    <tr>\n",
       "      <th>3</th>\n",
       "      <td>0.0</td>\n",
       "      <td>0.0</td>\n",
       "      <td>NaN</td>\n",
       "      <td>2108.0</td>\n",
       "      <td>NaN</td>\n",
       "      <td>174.21</td>\n",
       "      <td>6037.0</td>\n",
       "    </tr>\n",
       "    <tr>\n",
       "      <th>4</th>\n",
       "      <td>4.0</td>\n",
       "      <td>2.0</td>\n",
       "      <td>3633.0</td>\n",
       "      <td>296425.0</td>\n",
       "      <td>2005.0</td>\n",
       "      <td>6941.39</td>\n",
       "      <td>6037.0</td>\n",
       "    </tr>\n",
       "  </tbody>\n",
       "</table>\n",
       "</div>"
      ],
      "text/plain": [
       "   bedroomcnt  bathroomcnt  calculatedfinishedsquarefeet  taxvaluedollarcnt  \\\n",
       "0         0.0          0.0                           NaN            27516.0   \n",
       "1         0.0          0.0                           NaN               10.0   \n",
       "2         0.0          0.0                           NaN               10.0   \n",
       "3         0.0          0.0                           NaN             2108.0   \n",
       "4         4.0          2.0                        3633.0           296425.0   \n",
       "\n",
       "   yearbuilt  taxamount    fips  \n",
       "0        NaN        NaN  6037.0  \n",
       "1        NaN        NaN  6037.0  \n",
       "2        NaN        NaN  6037.0  \n",
       "3        NaN     174.21  6037.0  \n",
       "4     2005.0    6941.39  6037.0  "
      ]
     },
     "execution_count": 10,
     "metadata": {},
     "output_type": "execute_result"
    }
   ],
   "source": [
    "# First glimps of data\n",
    "df.head()"
   ]
  }
 ],
 "metadata": {
  "kernelspec": {
   "display_name": "Python 3 (ipykernel)",
   "language": "python",
   "name": "python3"
  },
  "language_info": {
   "codemirror_mode": {
    "name": "ipython",
    "version": 3
   },
   "file_extension": ".py",
   "mimetype": "text/x-python",
   "name": "python",
   "nbconvert_exporter": "python",
   "pygments_lexer": "ipython3",
   "version": "3.10.9"
  }
 },
 "nbformat": 4,
 "nbformat_minor": 5
}
