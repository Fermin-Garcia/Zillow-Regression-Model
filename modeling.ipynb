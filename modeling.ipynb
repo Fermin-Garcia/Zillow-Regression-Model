{
 "cells": [
  {
   "cell_type": "markdown",
   "id": "16f7ea80-c484-49d5-a50a-8576b5be1b7f",
   "metadata": {},
   "source": [
    "# Modeling Notebook "
   ]
  },
  {
   "cell_type": "code",
   "execution_count": 1,
   "id": "eb8828d0-c348-4f40-904b-d776df1892ed",
   "metadata": {},
   "outputs": [],
   "source": [
    "# Our normal imports \n",
    "import pandas as pd\n",
    "import numpy as np\n",
    "import matplotlib.pyplot as plt\n",
    "import seaborn as sns\n",
    "from sklearn.metrics import mean_squared_error\n",
    "from sklearn.linear_model import LinearRegression, LassoLars, TweedieRegressor\n",
    "from sklearn.preprocessing import PolynomialFeatures\n",
    "from sklearn.preprocessing import MinMaxScaler\n",
    "\n",
    "# Import Module\n",
    "import wrangle as w\n"
   ]
  },
  {
   "cell_type": "markdown",
   "id": "14245a85-29be-425f-b0c3-00d31e39ab4f",
   "metadata": {},
   "source": [
    "# Acquire our data "
   ]
  },
  {
   "cell_type": "code",
   "execution_count": 2,
   "id": "58294658-b4e8-4e4e-a0d9-b8de38836bc5",
   "metadata": {},
   "outputs": [],
   "source": [
    "df = pd.read_csv('explore_zillow.csv')"
   ]
  },
  {
   "cell_type": "markdown",
   "id": "6b077ff7-0b3c-4885-aa33-9a2bde2ea14e",
   "metadata": {},
   "source": [
    "# Split our data "
   ]
  },
  {
   "cell_type": "code",
   "execution_count": 3,
   "id": "1068dc46-59a7-4646-8aeb-afc39c0f6f76",
   "metadata": {},
   "outputs": [],
   "source": [
    "train, validate, split = w.split(df)"
   ]
  },
  {
   "cell_type": "markdown",
   "id": "84c601ff-44a7-4642-a532-93834d3bec92",
   "metadata": {},
   "source": [
    "### Lets split it again"
   ]
  },
  {
   "cell_type": "code",
   "execution_count": 4,
   "id": "d61aa538-1659-420c-8415-0fd2ac7f3cf8",
   "metadata": {},
   "outputs": [],
   "source": [
    "X_train = df.drop(columns = ['assessed_tax_value', 'tax_amount'])\n",
    "y_train = df['assessed_tax_value']\n",
    "X_validate = df.drop(columns = ['assessed_tax_value', 'tax_amount'])\n",
    "y_validate = df['assessed_tax_value']\n",
    "X_test = df.drop(columns = ['assessed_tax_value', 'tax_amount'])\n",
    "y_test = df['assessed_tax_value']"
   ]
  },
  {
   "cell_type": "markdown",
   "id": "f79e95e1-2a97-4ca0-9ff2-972d2a584d27",
   "metadata": {},
   "source": [
    "# Lets make a DataFrame to hold the predictive values"
   ]
  },
  {
   "cell_type": "code",
   "execution_count": 5,
   "id": "94cbb17f-9879-412e-8379-08ebb221d811",
   "metadata": {},
   "outputs": [],
   "source": [
    "train_pred = pd.DataFrame()\n",
    "validate_pred = pd.DataFrame()\n",
    "test_pred = pd.DataFrame()"
   ]
  },
  {
   "cell_type": "markdown",
   "id": "adc018f4-0c50-4236-bb47-264b2b308fd1",
   "metadata": {},
   "source": [
    "# Lets Establish our baseline. Our baseline is a way to measure how well we would perform if we just made the same assumption for every house "
   ]
  },
  {
   "cell_type": "code",
   "execution_count": 6,
   "id": "d23cd28b-cdac-4f19-bfd8-191c200eac81",
   "metadata": {},
   "outputs": [],
   "source": [
    "train_pred['actual'] = y_train\n",
    "validate_pred['actual'] = y_validate\n",
    "test_pred['actual'] = y_test  "
   ]
  },
  {
   "cell_type": "code",
   "execution_count": 17,
   "id": "46f9d88d-23b1-471b-88ab-079b07b4c946",
   "metadata": {},
   "outputs": [],
   "source": [
    "scaler = MinMaxScaler()\n",
    "scaled_X_train = pd.DataFrame(scaler.fit_transform(X_train), columns= X_train.columns)\n",
    "scaled_X_validate = pd.DataFrame(scaler.fit_transform(X_validate), columns= X_train.columns)\n",
    "scaled_X_test = pd.DataFrame(scaler.fit_transform(X_test), columns= X_train.columns)"
   ]
  },
  {
   "cell_type": "markdown",
   "id": "9ba5f5ef-251d-4d18-a10c-6f57e6664e6f",
   "metadata": {},
   "source": [
    "# Establishing a Baseline "
   ]
  },
  {
   "cell_type": "code",
   "execution_count": 8,
   "id": "0086ac32-d337-4f57-8d64-44fb0becafc7",
   "metadata": {},
   "outputs": [],
   "source": [
    "train_pred['assessed_value_mean'] =  round(y_train.mean(),2)\n",
    "validate_pred['assessed_value_mean'] =  round(y_validate.mean(),2)\n",
    "test_pred['assessed_value_mean'] = round(y_test.mean(),2)"
   ]
  },
  {
   "cell_type": "code",
   "execution_count": 9,
   "id": "0e1c6ce4-f6dc-40cc-bd6b-eb2071f7cf59",
   "metadata": {},
   "outputs": [],
   "source": [
    "train_pred['assessed_value_median'] =  round(y_train.median(),2)\n",
    "validate_pred['assessed_value_median'] =  round(y_validate.median(),2)\n",
    "test_pred['assessed_value_median'] = round(y_test.median(),2)"
   ]
  },
  {
   "cell_type": "code",
   "execution_count": 10,
   "id": "5a274918-eee2-4e0d-8962-7627a311e30b",
   "metadata": {},
   "outputs": [
    {
     "data": {
      "text/plain": [
       "315445.0"
      ]
     },
     "execution_count": 10,
     "metadata": {},
     "output_type": "execute_result"
    }
   ],
   "source": [
    "round(y_train.median(),2)"
   ]
  },
  {
   "cell_type": "markdown",
   "id": "e771280a-0e67-4eed-b463-644bddbf7e30",
   "metadata": {},
   "source": [
    "## Evaluate baseline"
   ]
  },
  {
   "cell_type": "code",
   "execution_count": 11,
   "id": "53a3f048-15f0-459d-aa85-3cb10cd28ac2",
   "metadata": {},
   "outputs": [],
   "source": [
    "rmse_train = mean_squared_error(y_train, train_pred.assessed_value_mean) * (1/2)\n",
    "rmse_validate = mean_squared_error(y_validate, validate_pred.assessed_value_mean) * (1/2)"
   ]
  },
  {
   "cell_type": "code",
   "execution_count": 12,
   "id": "f7ce76bc-7f8d-49db-b7e2-4e7583c1f849",
   "metadata": {},
   "outputs": [
    {
     "name": "stdout",
     "output_type": "stream",
     "text": [
      "RMSE using Mean\n",
      "Train/In-Sample:  37397223782.51 \n",
      "Validate/Out-of-Sample:  37397223782.51\n"
     ]
    }
   ],
   "source": [
    "print(\"RMSE using Mean\\nTrain/In-Sample: \", round(rmse_train, 2), \n",
    "      \"\\nValidate/Out-of-Sample: \", round(rmse_validate, 2))"
   ]
  },
  {
   "cell_type": "code",
   "execution_count": 13,
   "id": "097eab2f-7f3a-482e-9c6b-d26acdeab0c0",
   "metadata": {},
   "outputs": [],
   "source": [
    "rmse_train_median = mean_squared_error(y_train, train_pred.assessed_value_median) * (1/2)\n",
    "rmse_validate_median = mean_squared_error(y_validate, validate_pred.assessed_value_median) * (1/2)"
   ]
  },
  {
   "cell_type": "code",
   "execution_count": 14,
   "id": "cc1a6adf-c93a-4707-8b50-8865285f6f03",
   "metadata": {},
   "outputs": [
    {
     "name": "stdout",
     "output_type": "stream",
     "text": [
      "RMSE using Mean\n",
      "Train/In-Sample:  39244668108.37 \n",
      "Validate/Out-of-Sample:  39244668108.37\n"
     ]
    }
   ],
   "source": [
    "print(\"RMSE using Mean\\nTrain/In-Sample: \", round(rmse_train_median, 2), \n",
    "      \"\\nValidate/Out-of-Sample: \", round(rmse_validate_median, 2))"
   ]
  },
  {
   "cell_type": "markdown",
   "id": "7a539697-3e72-4d69-bb6a-d3af183488de",
   "metadata": {},
   "source": [
    "# Linear Regression (OLS)"
   ]
  },
  {
   "cell_type": "code",
   "execution_count": 15,
   "id": "a3a7acf9-6a67-45f8-a12e-87084c3f4eb5",
   "metadata": {},
   "outputs": [],
   "source": [
    "lr = LinearRegression()"
   ]
  },
  {
   "cell_type": "code",
   "execution_count": 18,
   "id": "2d65165c-6e28-4723-bf8e-fbd2755413fc",
   "metadata": {},
   "outputs": [
    {
     "data": {
      "text/html": [
       "<style>#sk-container-id-1 {color: black;background-color: white;}#sk-container-id-1 pre{padding: 0;}#sk-container-id-1 div.sk-toggleable {background-color: white;}#sk-container-id-1 label.sk-toggleable__label {cursor: pointer;display: block;width: 100%;margin-bottom: 0;padding: 0.3em;box-sizing: border-box;text-align: center;}#sk-container-id-1 label.sk-toggleable__label-arrow:before {content: \"▸\";float: left;margin-right: 0.25em;color: #696969;}#sk-container-id-1 label.sk-toggleable__label-arrow:hover:before {color: black;}#sk-container-id-1 div.sk-estimator:hover label.sk-toggleable__label-arrow:before {color: black;}#sk-container-id-1 div.sk-toggleable__content {max-height: 0;max-width: 0;overflow: hidden;text-align: left;background-color: #f0f8ff;}#sk-container-id-1 div.sk-toggleable__content pre {margin: 0.2em;color: black;border-radius: 0.25em;background-color: #f0f8ff;}#sk-container-id-1 input.sk-toggleable__control:checked~div.sk-toggleable__content {max-height: 200px;max-width: 100%;overflow: auto;}#sk-container-id-1 input.sk-toggleable__control:checked~label.sk-toggleable__label-arrow:before {content: \"▾\";}#sk-container-id-1 div.sk-estimator input.sk-toggleable__control:checked~label.sk-toggleable__label {background-color: #d4ebff;}#sk-container-id-1 div.sk-label input.sk-toggleable__control:checked~label.sk-toggleable__label {background-color: #d4ebff;}#sk-container-id-1 input.sk-hidden--visually {border: 0;clip: rect(1px 1px 1px 1px);clip: rect(1px, 1px, 1px, 1px);height: 1px;margin: -1px;overflow: hidden;padding: 0;position: absolute;width: 1px;}#sk-container-id-1 div.sk-estimator {font-family: monospace;background-color: #f0f8ff;border: 1px dotted black;border-radius: 0.25em;box-sizing: border-box;margin-bottom: 0.5em;}#sk-container-id-1 div.sk-estimator:hover {background-color: #d4ebff;}#sk-container-id-1 div.sk-parallel-item::after {content: \"\";width: 100%;border-bottom: 1px solid gray;flex-grow: 1;}#sk-container-id-1 div.sk-label:hover label.sk-toggleable__label {background-color: #d4ebff;}#sk-container-id-1 div.sk-serial::before {content: \"\";position: absolute;border-left: 1px solid gray;box-sizing: border-box;top: 0;bottom: 0;left: 50%;z-index: 0;}#sk-container-id-1 div.sk-serial {display: flex;flex-direction: column;align-items: center;background-color: white;padding-right: 0.2em;padding-left: 0.2em;position: relative;}#sk-container-id-1 div.sk-item {position: relative;z-index: 1;}#sk-container-id-1 div.sk-parallel {display: flex;align-items: stretch;justify-content: center;background-color: white;position: relative;}#sk-container-id-1 div.sk-item::before, #sk-container-id-1 div.sk-parallel-item::before {content: \"\";position: absolute;border-left: 1px solid gray;box-sizing: border-box;top: 0;bottom: 0;left: 50%;z-index: -1;}#sk-container-id-1 div.sk-parallel-item {display: flex;flex-direction: column;z-index: 1;position: relative;background-color: white;}#sk-container-id-1 div.sk-parallel-item:first-child::after {align-self: flex-end;width: 50%;}#sk-container-id-1 div.sk-parallel-item:last-child::after {align-self: flex-start;width: 50%;}#sk-container-id-1 div.sk-parallel-item:only-child::after {width: 0;}#sk-container-id-1 div.sk-dashed-wrapped {border: 1px dashed gray;margin: 0 0.4em 0.5em 0.4em;box-sizing: border-box;padding-bottom: 0.4em;background-color: white;}#sk-container-id-1 div.sk-label label {font-family: monospace;font-weight: bold;display: inline-block;line-height: 1.2em;}#sk-container-id-1 div.sk-label-container {text-align: center;}#sk-container-id-1 div.sk-container {/* jupyter's `normalize.less` sets `[hidden] { display: none; }` but bootstrap.min.css set `[hidden] { display: none !important; }` so we also need the `!important` here to be able to override the default hidden behavior on the sphinx rendered scikit-learn.org. See: https://github.com/scikit-learn/scikit-learn/issues/21755 */display: inline-block !important;position: relative;}#sk-container-id-1 div.sk-text-repr-fallback {display: none;}</style><div id=\"sk-container-id-1\" class=\"sk-top-container\"><div class=\"sk-text-repr-fallback\"><pre>LinearRegression()</pre><b>In a Jupyter environment, please rerun this cell to show the HTML representation or trust the notebook. <br />On GitHub, the HTML representation is unable to render, please try loading this page with nbviewer.org.</b></div><div class=\"sk-container\" hidden><div class=\"sk-item\"><div class=\"sk-estimator sk-toggleable\"><input class=\"sk-toggleable__control sk-hidden--visually\" id=\"sk-estimator-id-1\" type=\"checkbox\" checked><label for=\"sk-estimator-id-1\" class=\"sk-toggleable__label sk-toggleable__label-arrow\">LinearRegression</label><div class=\"sk-toggleable__content\"><pre>LinearRegression()</pre></div></div></div></div></div>"
      ],
      "text/plain": [
       "LinearRegression()"
      ]
     },
     "execution_count": 18,
     "metadata": {},
     "output_type": "execute_result"
    }
   ],
   "source": [
    "lr.fit(scaled_X_train, y_train)"
   ]
  },
  {
   "cell_type": "code",
   "execution_count": 19,
   "id": "9332a7fc-e34b-41ea-a6c3-20af8051188d",
   "metadata": {},
   "outputs": [
    {
     "data": {
      "text/plain": [
       "0.2716754447480435"
      ]
     },
     "execution_count": 19,
     "metadata": {},
     "output_type": "execute_result"
    }
   ],
   "source": [
    "lr.score(scaled_X_train, y_train)"
   ]
  },
  {
   "cell_type": "code",
   "execution_count": 20,
   "id": "a5a31e69-7802-4772-a609-33412438b44e",
   "metadata": {},
   "outputs": [],
   "source": [
    "train_pred['ols'] = lr.predict(X_train)"
   ]
  },
  {
   "cell_type": "code",
   "execution_count": 21,
   "id": "be5c1dc7-1e7f-425b-9e39-601da859d45c",
   "metadata": {},
   "outputs": [
    {
     "data": {
      "text/plain": [
       "4.9040098889489364e+20"
      ]
     },
     "execution_count": 21,
     "metadata": {},
     "output_type": "execute_result"
    }
   ],
   "source": [
    "mean_squared_error(train_pred.actual, train_pred.ols)"
   ]
  }
 ],
 "metadata": {
  "kernelspec": {
   "display_name": "Python 3 (ipykernel)",
   "language": "python",
   "name": "python3"
  },
  "language_info": {
   "codemirror_mode": {
    "name": "ipython",
    "version": 3
   },
   "file_extension": ".py",
   "mimetype": "text/x-python",
   "name": "python",
   "nbconvert_exporter": "python",
   "pygments_lexer": "ipython3",
   "version": "3.10.9"
  }
 },
 "nbformat": 4,
 "nbformat_minor": 5
}
